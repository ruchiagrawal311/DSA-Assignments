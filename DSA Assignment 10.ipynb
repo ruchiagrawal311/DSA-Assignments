{
 "cells": [
  {
   "cell_type": "markdown",
   "id": "1e5bfcef",
   "metadata": {},
   "source": [
    "<aside>\n",
    "💡 **Question 1**\n",
    "\n",
    "Given an integer `n`, return *`true` if it is a power of three. Otherwise, return `false`*.\n",
    "\n",
    "An integer `n` is a power of three, if there exists an integer `x` such that `n == 3x`.\n",
    "\n",
    "**Example 1:**\n",
    "\n",
    "```\n",
    "Input: n = 27\n",
    "Output: true\n",
    "Explanation: 27 = 33\n",
    "```\n",
    "\n",
    "**Example 2:**\n",
    "\n",
    "```\n",
    "Input: n = 0\n",
    "Output: false\n",
    "Explanation: There is no x where 3x = 0.\n",
    "\n",
    "```\n",
    "\n",
    "**Example 3:**\n",
    "\n",
    "```\n",
    "Input: n = -1\n",
    "Output: false\n",
    "Explanation: There is no x where 3x = (-1).\n",
    "```\n",
    "\n",
    "</aside>"
   ]
  },
  {
   "cell_type": "code",
   "execution_count": 1,
   "id": "935d98d6",
   "metadata": {},
   "outputs": [
    {
     "name": "stdout",
     "output_type": "stream",
     "text": [
      "True\n",
      "False\n",
      "False\n"
     ]
    }
   ],
   "source": [
    "def is_power_of_three(n):\n",
    "    if n <= 0:\n",
    "        return False\n",
    "    while n % 3 == 0:\n",
    "        n //= 3\n",
    "    return n == 1\n",
    "\n",
    "# Test the function\n",
    "print(is_power_of_three(27)) \n",
    "print(is_power_of_three(0))  \n",
    "print(is_power_of_three(-1))  \n"
   ]
  },
  {
   "cell_type": "markdown",
   "id": "21a4b4d2",
   "metadata": {},
   "source": [
    "<aside>\n",
    "💡 **Question 2**\n",
    "\n",
    "You have a list `arr` of all integers in the range `[1, n]` sorted in a strictly increasing order. Apply the following algorithm on `arr`:\n",
    "\n",
    "- Starting from left to right, remove the first number and every other number afterward until you reach the end of the list.\n",
    "- Repeat the previous step again, but this time from right to left, remove the rightmost number and every other number from the remaining numbers.\n",
    "- Keep repeating the steps again, alternating left to right and right to left, until a single number remains.\n",
    "\n",
    "Given the integer `n`, return *the last number that remains in* `arr`.\n",
    "\n",
    "**Example 1:**\n",
    "\n",
    "```\n",
    "Input: n = 9\n",
    "Output: 6\n",
    "Explanation:\n",
    "arr = [1, 2,3, 4,5, 6,7, 8,9]\n",
    "arr = [2,4, 6,8]\n",
    "arr = [2, 6]\n",
    "arr = [6]\n",
    "\n",
    "```\n",
    "\n",
    "**Example 2:**\n",
    "\n",
    "```\n",
    "Input: n = 1\n",
    "Output: 1\n",
    "```\n",
    "\n",
    "</aside>"
   ]
  },
  {
   "cell_type": "code",
   "execution_count": 3,
   "id": "78a9fdc4",
   "metadata": {},
   "outputs": [
    {
     "name": "stdout",
     "output_type": "stream",
     "text": [
      "6\n",
      "1\n"
     ]
    }
   ],
   "source": [
    "def last_remaining(n):\n",
    "    left_to_right = True\n",
    "    remaining = n\n",
    "    step = 1\n",
    "    head = 1\n",
    "\n",
    "    while remaining > 1:\n",
    "        if left_to_right or remaining % 2 == 1:\n",
    "            head += step\n",
    "\n",
    "        remaining //= 2\n",
    "        step *= 2\n",
    "        left_to_right = not left_to_right\n",
    "\n",
    "    return head\n",
    "\n",
    "# Test the function\n",
    "print(last_remaining(9))  \n",
    "print(last_remaining(1))  "
   ]
  },
  {
   "cell_type": "markdown",
   "id": "705e05f7",
   "metadata": {},
   "source": [
    "<aside>\n",
    "💡 **Question 3**\n",
    "\n",
    "****Given a set represented as a string, write a recursive code to print all subsets of it. The subsets can be printed in any order.\n",
    "\n",
    "**Example 1:**\n",
    "\n",
    "Input :  set = “abc”\n",
    "\n",
    "Output : { “”, “a”, “b”, “c”, “ab”, “ac”, “bc”, “abc”}\n",
    "\n",
    "**Example 2:**\n",
    "\n",
    "Input : set = “abcd”\n",
    "\n",
    "Output : { “”, “a” ,”ab” ,”abc” ,”abcd”, “abd” ,”ac” ,”acd”, “ad” ,”b”, “bc” ,”bcd” ,”bd” ,”c” ,”cd” ,”d” }\n",
    "\n",
    "</aside>\n"
   ]
  },
  {
   "cell_type": "code",
   "execution_count": 4,
   "id": "cd29612a",
   "metadata": {},
   "outputs": [
    {
     "name": "stdout",
     "output_type": "stream",
     "text": [
      "abc\n",
      "ab\n",
      "ac\n",
      "a\n",
      "bc\n",
      "b\n",
      "c\n",
      "\n",
      "abcd\n",
      "abc\n",
      "abd\n",
      "ab\n",
      "acd\n",
      "ac\n",
      "ad\n",
      "a\n",
      "bcd\n",
      "bc\n",
      "bd\n",
      "b\n",
      "cd\n",
      "c\n",
      "d\n",
      "\n"
     ]
    }
   ],
   "source": [
    "def print_subsets(s, curr_subset=\"\"):\n",
    "    if len(s) == 0:\n",
    "        print(curr_subset)\n",
    "        return\n",
    "\n",
    "    # Include the first character in the current subset\n",
    "    print_subsets(s[1:], curr_subset + s[0])\n",
    "\n",
    "    # Exclude the first character from the current subset\n",
    "    print_subsets(s[1:], curr_subset)\n",
    "\n",
    "\n",
    "# Test the function\n",
    "print_subsets(\"abc\")\n",
    "print_subsets(\"abcd\")\n"
   ]
  },
  {
   "cell_type": "markdown",
   "id": "89e1a59d",
   "metadata": {},
   "source": [
    "<aside>\n",
    "💡 **Question 4**\n",
    "\n",
    "Given a string calculate length of the string using recursion.\n",
    "\n",
    "**Examples:**\n",
    "\n",
    "```\n",
    "Input : str = \"abcd\"\n",
    "Output :4\n",
    "\n",
    "Input : str = \"GEEKSFORGEEKS\"\n",
    "Output :13\n",
    "```\n",
    "\n",
    "</aside>"
   ]
  },
  {
   "cell_type": "code",
   "execution_count": 5,
   "id": "236a0aa3",
   "metadata": {},
   "outputs": [
    {
     "name": "stdout",
     "output_type": "stream",
     "text": [
      "4\n",
      "13\n"
     ]
    }
   ],
   "source": [
    "def calculate_length(s):\n",
    "    if s == \"\":\n",
    "        return 0\n",
    "    else:\n",
    "        return 1 + calculate_length(s[1:])\n",
    "\n",
    "\n",
    "# Test the function\n",
    "print(calculate_length(\"abcd\"))\n",
    "print(calculate_length(\"GEEKSFORGEEKS\"))\n"
   ]
  },
  {
   "cell_type": "markdown",
   "id": "b712c6dd",
   "metadata": {},
   "source": [
    "<aside>\n",
    "💡 **Question 5**\n",
    "\n",
    "We are given a string S, we need to find count of all contiguous substrings starting and ending with same character.\n",
    "\n",
    "**Examples :**\n",
    "\n",
    "```\n",
    "Input  : S = \"abcab\"\n",
    "Output : 7\n",
    "There are 15 substrings of \"abcab\"\n",
    "a, ab, abc, abca, abcab, b, bc, bca\n",
    "bcab, c, ca, cab, a, ab, b\n",
    "Out of the above substrings, there\n",
    "are 7 substrings : a, abca, b, bcab,\n",
    "c, a and b.\n",
    "\n",
    "Input  : S = \"aba\"\n",
    "Output : 4\n",
    "The substrings are a, b, a and aba\n",
    "```\n",
    "\n",
    "</aside>\n"
   ]
  },
  {
   "cell_type": "code",
   "execution_count": 8,
   "id": "101f8b7d",
   "metadata": {},
   "outputs": [
    {
     "name": "stdout",
     "output_type": "stream",
     "text": [
      "7\n",
      "4\n"
     ]
    }
   ],
   "source": [
    "def count_contiguous_substrings(s):\n",
    "    count = 0\n",
    "    n = len(s)\n",
    "\n",
    "    for i in range(n):\n",
    "        for j in range(i, n):\n",
    "            if s[i] == s[j]:\n",
    "                count += 1\n",
    "\n",
    "    return count\n",
    "\n",
    "\n",
    "# Test the function\n",
    "print(count_contiguous_substrings(\"abcab\"))\n",
    "print(count_contiguous_substrings(\"aba\"))\n"
   ]
  },
  {
   "cell_type": "markdown",
   "id": "58c069fd",
   "metadata": {},
   "source": [
    "<aside>\n",
    "💡 **Question 6**\n",
    "\n",
    "The [tower of Hanoi](https://en.wikipedia.org/wiki/Tower_of_Hanoi) is a famous puzzle where we have three rods and **N** disks. The objective of the puzzle is to move the entire stack to another rod. You are given the number of discs **N**. Initially, these discs are in the rod 1. You need to print all the steps of discs movement so that all the discs reach the 3rd rod. Also, you need to find the total moves.**Note:** The discs are arranged such that the **top disc is numbered 1** and the **bottom-most disc is numbered N**. Also, all the discs have **different sizes** and a bigger disc **cannot** be put on the top of a smaller disc. Refer the provided link to get a better clarity about the puzzle.\n",
    "\n",
    "**Example 1:**\n",
    "\n",
    "```\n",
    "Input:\n",
    "N = 2\n",
    "Output:\n",
    "move disk 1 from rod 1 to rod 2\n",
    "move disk 2 from rod 1 to rod 3\n",
    "move disk 1 from rod 2 to rod 3\n",
    "3\n",
    "Explanation:For N=2 , steps will be\n",
    "as follows in the example and total\n",
    "3 steps will be taken.\n",
    "```\n",
    "\n",
    "**Example 2:**\n",
    "\n",
    "```\n",
    "Input:\n",
    "N = 3\n",
    "Output:\n",
    "move disk 1 from rod 1 to rod 3\n",
    "move disk 2 from rod 1 to rod 2\n",
    "move disk 1 from rod 3 to rod 2\n",
    "move disk 3 from rod 1 to rod 3\n",
    "move disk 1 from rod 2 to rod 1\n",
    "move disk 2 from rod 2 to rod 3\n",
    "move disk 1 from rod 1 to rod 3\n",
    "7\n",
    "Explanation:For N=3 , steps will be\n",
    "as follows in the example and total\n",
    "7 steps will be taken.\n",
    "```\n",
    "\n",
    "</aside>"
   ]
  },
  {
   "cell_type": "code",
   "execution_count": 9,
   "id": "82714c2b",
   "metadata": {},
   "outputs": [
    {
     "name": "stdout",
     "output_type": "stream",
     "text": [
      "move disk 1 from rod 1 to rod 2\n",
      "move disk 2 from rod 1 to rod 3\n",
      "move disk 1 from rod 2 to rod 3\n",
      "Total moves: 3\n",
      "move disk 1 from rod 1 to rod 3\n",
      "move disk 2 from rod 1 to rod 2\n",
      "move disk 1 from rod 3 to rod 2\n",
      "move disk 3 from rod 1 to rod 3\n",
      "move disk 1 from rod 2 to rod 1\n",
      "move disk 2 from rod 2 to rod 3\n",
      "move disk 1 from rod 1 to rod 3\n",
      "Total moves: 7\n"
     ]
    }
   ],
   "source": [
    "def tower_of_hanoi(n, source, destination, auxiliary):\n",
    "    if n == 1:\n",
    "        print(\"move disk 1 from rod\", source, \"to rod\", destination)\n",
    "        return 1\n",
    "\n",
    "    count = 0\n",
    "    count += tower_of_hanoi(n - 1, source, auxiliary, destination)\n",
    "    print(\"move disk\", n, \"from rod\", source, \"to rod\", destination)\n",
    "    count += 1\n",
    "    count += tower_of_hanoi(n - 1, auxiliary, destination, source)\n",
    "\n",
    "    return count\n",
    "\n",
    "\n",
    "# Test the function\n",
    "N = 2\n",
    "print(\"Total moves:\", tower_of_hanoi(N, 1, 3, 2))\n",
    "\n",
    "N = 3\n",
    "print(\"Total moves:\", tower_of_hanoi(N, 1, 3, 2))\n"
   ]
  },
  {
   "cell_type": "markdown",
   "id": "ee315a61",
   "metadata": {},
   "source": [
    "💡 **Question 7**\n",
    "\n",
    "Given a string **str**, the task is to print all the permutations of **str**. A **permutation** is an arrangement of all or part of a set of objects, with regard to the order of the arrangement. For instance, the words ‘bat’ and ‘tab’ represents two distinct permutation (or arrangements) of a similar three letter word.\n",
    "\n",
    "**Examples:**\n",
    "\n",
    "> Input: str = “cd”\n",
    "> \n",
    "> \n",
    "> **Output:** cd dc\n",
    "> \n",
    "> **Input:** str = “abb”\n",
    "> \n",
    "> **Output:** abb abb bab bba bab bba\n",
    "> \n",
    "</aside>\n"
   ]
  },
  {
   "cell_type": "code",
   "execution_count": 10,
   "id": "32a52014",
   "metadata": {},
   "outputs": [
    {
     "name": "stdout",
     "output_type": "stream",
     "text": [
      "Permutations of cd:\n",
      "cd\n",
      "dc\n",
      "Permutations of abb:\n",
      "abb\n",
      "abb\n",
      "bab\n",
      "bba\n",
      "bba\n",
      "bab\n"
     ]
    }
   ],
   "source": [
    "def permute_string(s, left, right):\n",
    "    if left == right:\n",
    "        print(\"\".join(s))\n",
    "    else:\n",
    "        for i in range(left, right + 1):\n",
    "            s[left], s[i] = s[i], s[left]  # Swap characters\n",
    "            permute_string(s, left + 1, right)  # Recurse on the remaining characters\n",
    "            s[left], s[i] = s[i], s[left]  # Revert the swap\n",
    "\n",
    "# Test the function\n",
    "str1 = \"cd\"\n",
    "print(\"Permutations of\", str1 + \":\")\n",
    "permute_string(list(str1), 0, len(str1) - 1)\n",
    "\n",
    "str2 = \"abb\"\n",
    "print(\"Permutations of\", str2 + \":\")\n",
    "permute_string(list(str2), 0, len(str2) - 1)\n"
   ]
  },
  {
   "cell_type": "markdown",
   "id": "6e01c744",
   "metadata": {},
   "source": [
    "<aside>\n",
    "💡 **Question 8**\n",
    "\n",
    "Given a string, count total number of consonants in it. A consonant is an English alphabet character that is not vowel (a, e, i, o and u). Examples of constants are b, c, d, f, and g.\n",
    "\n",
    "**Examples :**\n",
    "    Input : abc de\n",
    "Output : 3\n",
    "There are three consonants b, c and d.\n",
    "\n",
    "Input : geeksforgeeks portal\n",
    "Output : 12\n",
    "\n",
    "</aside>"
   ]
  },
  {
   "cell_type": "code",
   "execution_count": 11,
   "id": "55de0259",
   "metadata": {},
   "outputs": [
    {
     "name": "stdout",
     "output_type": "stream",
     "text": [
      "Number of consonants in abc de: 3\n",
      "Number of consonants in geeksforgeeks portal: 12\n"
     ]
    }
   ],
   "source": [
    "def count_consonants(s):\n",
    "    vowels = \"aeiou\"\n",
    "    consonant_count = 0\n",
    "    for char in s:\n",
    "        if char.isalpha() and char.lower() not in vowels:\n",
    "            consonant_count += 1\n",
    "    return consonant_count\n",
    "\n",
    "# Test the function\n",
    "str1 = \"abc de\"\n",
    "print(\"Number of consonants in\", str1 + \":\", count_consonants(str1))\n",
    "\n",
    "str2 = \"geeksforgeeks portal\"\n",
    "print(\"Number of consonants in\", str2 + \":\", count_consonants(str2))\n"
   ]
  }
 ],
 "metadata": {
  "kernelspec": {
   "display_name": "Python 3 (ipykernel)",
   "language": "python",
   "name": "python3"
  },
  "language_info": {
   "codemirror_mode": {
    "name": "ipython",
    "version": 3
   },
   "file_extension": ".py",
   "mimetype": "text/x-python",
   "name": "python",
   "nbconvert_exporter": "python",
   "pygments_lexer": "ipython3",
   "version": "3.9.13"
  }
 },
 "nbformat": 4,
 "nbformat_minor": 5
}
