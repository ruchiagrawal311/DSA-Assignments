{
 "cells": [
  {
   "cell_type": "markdown",
   "id": "c3383545",
   "metadata": {},
   "source": [
    "<aside>\n",
    "💡 **Question 1**\n",
    "\n",
    "Given two strings s and t, *determine if they are isomorphic*.\n",
    "\n",
    "Two strings s and t are isomorphic if the characters in s can be replaced to get t.\n",
    "\n",
    "All occurrences of a character must be replaced with another character while preserving the order of characters. No two characters may map to the same character, but a character may map to itself.\n",
    "\n",
    "**Example 1:**\n",
    "\n",
    "**Input:** s = \"egg\", t = \"add\"\n",
    "\n",
    "**Output:** true\n",
    "\n",
    "</aside>"
   ]
  },
  {
   "cell_type": "code",
   "execution_count": 1,
   "id": "9bbdbdd2",
   "metadata": {},
   "outputs": [
    {
     "name": "stdout",
     "output_type": "stream",
     "text": [
      "True\n"
     ]
    }
   ],
   "source": [
    "def is_isomorphic(s, t):\n",
    "    if len(s) != len(t):\n",
    "        return False\n",
    "\n",
    "    # Create dictionaries to store the mapping of characters\n",
    "    mapping_s = {}\n",
    "    mapping_t = {}\n",
    "\n",
    "    for i in range(len(s)):\n",
    "        char_s = s[i]\n",
    "        char_t = t[i]\n",
    "\n",
    "        # Check if characters are already mapped, otherwise, create a new mapping\n",
    "        if char_s in mapping_s:\n",
    "            if mapping_s[char_s] != char_t:\n",
    "                return False\n",
    "        else:\n",
    "            mapping_s[char_s] = char_t\n",
    "\n",
    "        if char_t in mapping_t:\n",
    "            if mapping_t[char_t] != char_s:\n",
    "                return False\n",
    "        else:\n",
    "            mapping_t[char_t] = char_s\n",
    "\n",
    "    return True\n",
    "\n",
    "# Example\n",
    "s = \"egg\"\n",
    "t = \"add\"\n",
    "print(is_isomorphic(s, t))  \n"
   ]
  },
  {
   "cell_type": "markdown",
   "id": "af90909d",
   "metadata": {},
   "source": [
    "<aside>\n",
    "💡 **Question 2**\n",
    "\n",
    "Given a string num which represents an integer, return true *if* num *is a **strobogrammatic number***.\n",
    "\n",
    "A **strobogrammatic number** is a number that looks the same when rotated 180 degrees (looked at upside down).\n",
    "\n",
    "**Example 1:**\n",
    "\n",
    "**Input:** num = \"69\"\n",
    "\n",
    "**Output:**\n",
    "\n",
    "true\n",
    "\n",
    "</aside>"
   ]
  },
  {
   "cell_type": "code",
   "execution_count": 2,
   "id": "05758fa2",
   "metadata": {},
   "outputs": [
    {
     "name": "stdout",
     "output_type": "stream",
     "text": [
      "True\n"
     ]
    }
   ],
   "source": [
    "def is_strobogrammatic(num):\n",
    "    # Define the valid pairs of strobogrammatic digits\n",
    "    pairs = {'0': '0', '1': '1', '6': '9', '8': '8', '9': '6'}\n",
    "\n",
    "    # Initialize pointers for left and right ends of the number\n",
    "    left, right = 0, len(num) - 1\n",
    "\n",
    "    while left <= right:\n",
    "        # Check if the pair of digits at left and right are valid\n",
    "        if num[left] not in pairs or pairs[num[left]] != num[right]:\n",
    "            return False\n",
    "        \n",
    "        # Move the pointers inward\n",
    "        left += 1\n",
    "        right -= 1\n",
    "\n",
    "    return True\n",
    "\n",
    "#Example\n",
    "num = \"69\"\n",
    "print(is_strobogrammatic(num))  \n"
   ]
  },
  {
   "cell_type": "markdown",
   "id": "41628654",
   "metadata": {},
   "source": [
    "<aside>\n",
    "💡 **Question 3**\n",
    "\n",
    "Given two non-negative integers, num1 and num2 represented as string, return *the sum of* num1 *and* num2 *as a string*.\n",
    "\n",
    "You must solve the problem without using any built-in library for handling large integers (such as BigInteger). You must also not convert the inputs to integers directly.\n",
    "\n",
    "**Example 1:**\n",
    "\n",
    "**Input:** num1 = \"11\", num2 = \"123\"\n",
    "\n",
    "**Output:**\n",
    "\n",
    "\"134\"\n",
    "\n",
    "</aside>"
   ]
  },
  {
   "cell_type": "code",
   "execution_count": 4,
   "id": "f358dbc9",
   "metadata": {},
   "outputs": [
    {
     "name": "stdout",
     "output_type": "stream",
     "text": [
      "134\n"
     ]
    }
   ],
   "source": [
    "def add_strings(num1, num2):\n",
    "    # Initialize variables for the result and carry\n",
    "    result = []\n",
    "    carry = 0\n",
    "\n",
    "    # Traverse the strings from right to left\n",
    "    i, j = len(num1) - 1, len(num2) - 1\n",
    "    while i >= 0 or j >= 0 or carry:\n",
    "        # Calculate the sum of the current digits and carry\n",
    "        digit_sum = carry\n",
    "        if i >= 0:\n",
    "            digit_sum += int(num1[i])\n",
    "            i -= 1\n",
    "        if j >= 0:\n",
    "            digit_sum += int(num2[j])\n",
    "            j -= 1\n",
    "\n",
    "        # Update the carry and append the result digit\n",
    "        carry = digit_sum // 10\n",
    "        result.append(str(digit_sum % 10))\n",
    "\n",
    "    # Reverse the result and return it as a string\n",
    "    return ''.join(result[::-1])\n",
    "\n",
    "#Example\n",
    "num1 = \"11\"\n",
    "num2 = \"123\"\n",
    "print(add_strings(num1, num2))\n"
   ]
  },
  {
   "cell_type": "markdown",
   "id": "4ac77ebf",
   "metadata": {},
   "source": [
    "<aside>\n",
    "💡 **Question 4**\n",
    "\n",
    "Given a string s, reverse the order of characters in each word within a sentence while still preserving whitespace and initial word order.\n",
    "\n",
    "**Example 1:**\n",
    "\n",
    "**Input:** s = \"Let's take LeetCode contest\"\n",
    "\n",
    "**Output:** \"s'teL ekat edoCteeL tsetnoc\"\n",
    "\n",
    "</aside>"
   ]
  },
  {
   "cell_type": "code",
   "execution_count": 5,
   "id": "866e2933",
   "metadata": {},
   "outputs": [
    {
     "name": "stdout",
     "output_type": "stream",
     "text": [
      "s'teL ekat edoCteeL tsetnoc\n"
     ]
    }
   ],
   "source": [
    "def reverse_words(s):\n",
    "    # Split the sentence into individual words\n",
    "    words = s.split()\n",
    "\n",
    "    # Reverse each word\n",
    "    reversed_words = [word[::-1] for word in words]\n",
    "\n",
    "    # Join the reversed words with whitespace\n",
    "    reversed_sentence = ' '.join(reversed_words)\n",
    "\n",
    "    return reversed_sentence\n",
    "\n",
    "#Example\n",
    "s = \"Let's take LeetCode contest\"\n",
    "print(reverse_words(s)) \n"
   ]
  },
  {
   "cell_type": "markdown",
   "id": "b9fc3bce",
   "metadata": {},
   "source": [
    "<aside>\n",
    "💡 **Question 5**\n",
    "\n",
    "Given a string s and an integer k, reverse the first k characters for every 2k characters counting from the start of the string.\n",
    "\n",
    "If there are fewer than k characters left, reverse all of them. If there are less than 2k but greater than or equal to k characters, then reverse the first k characters and leave the other as original.\n",
    "\n",
    "**Example 1:**\n",
    "\n",
    "**Input:** s = \"abcdefg\", k = 2\n",
    "\n",
    "**Output:**\n",
    "\n",
    "\"bacdfeg\"\n",
    "\n",
    "</aside>"
   ]
  },
  {
   "cell_type": "code",
   "execution_count": 7,
   "id": "d141f2c7",
   "metadata": {},
   "outputs": [
    {
     "name": "stdout",
     "output_type": "stream",
     "text": [
      "bacdfeg\n"
     ]
    }
   ],
   "source": [
    "def reverse_string(s, k):\n",
    "    # Convert the string to a list of characters\n",
    "    chars = list(s)\n",
    "    n = len(chars)\n",
    "\n",
    "    # Iterate over the string in steps of 2k\n",
    "    for i in range(0, n, 2*k):\n",
    "        # Reverse the first k characters\n",
    "        end = min(i + k, n)\n",
    "        chars[i:end] = chars[i:end][::-1]\n",
    "\n",
    "    # Convert the list back to a string\n",
    "    reversed_s = ''.join(chars)\n",
    "\n",
    "    return reversed_s\n",
    "#Example\n",
    "s = \"abcdefg\"\n",
    "k = 2\n",
    "print(reverse_string(s, k))"
   ]
  },
  {
   "cell_type": "markdown",
   "id": "f97e504e",
   "metadata": {},
   "source": [
    "<aside>\n",
    "💡 **Question 6**\n",
    "\n",
    "Given two strings s and goal, return true *if and only if* s *can become* goal *after some number of **shifts** on* s.\n",
    "\n",
    "A **shift** on s consists of moving the leftmost character of s to the rightmost position.\n",
    "\n",
    "- For example, if s = \"abcde\", then it will be \"bcdea\" after one shift.\n",
    "\n",
    "**Example 1:**\n",
    "\n",
    "**Input:** s = \"abcde\", goal = \"cdeab\"\n",
    "\n",
    "**Output:**\n",
    "\n",
    "true\n",
    "\n",
    "</aside>"
   ]
  },
  {
   "cell_type": "code",
   "execution_count": 8,
   "id": "80f1e2e6",
   "metadata": {},
   "outputs": [
    {
     "name": "stdout",
     "output_type": "stream",
     "text": [
      "True\n"
     ]
    }
   ],
   "source": [
    "def rotate_string(s, goal):\n",
    "    # Check if lengths of s and goal are equal\n",
    "    if len(s) != len(goal):\n",
    "        return False\n",
    "\n",
    "    # Concatenate s with itself\n",
    "    concatenated = s + s\n",
    "\n",
    "    # Check if goal is a substring of the concatenated string\n",
    "    if goal in concatenated:\n",
    "        return True\n",
    "    else:\n",
    "        return False\n",
    "#Example\n",
    "s = \"abcde\"\n",
    "goal = \"cdeab\"\n",
    "print(rotate_string(s, goal))"
   ]
  },
  {
   "cell_type": "markdown",
   "id": "55eff6a5",
   "metadata": {},
   "source": [
    "<aside>\n",
    "💡 **Question 7**\n",
    "\n",
    "Given two strings s and t, return true *if they are equal when both are typed into empty text editors*. '#' means a backspace character.\n",
    "\n",
    "Note that after backspacing an empty text, the text will continue empty.\n",
    "\n",
    "**Example 1:**\n",
    "\n",
    "**Input:** s = \"ab#c\", t = \"ad#c\"\n",
    "\n",
    "**Output:** true\n",
    "\n",
    "**Explanation:**\n",
    "\n",
    "Both s and t become \"ac\".\n",
    "\n",
    "</aside>"
   ]
  },
  {
   "cell_type": "code",
   "execution_count": 9,
   "id": "7c7509dd",
   "metadata": {},
   "outputs": [
    {
     "name": "stdout",
     "output_type": "stream",
     "text": [
      "True\n"
     ]
    }
   ],
   "source": [
    "def backspace_compare(s, t):\n",
    "    def process_string(string):\n",
    "        result = []\n",
    "        for char in string:\n",
    "            if char != '#':\n",
    "                result.append(char)\n",
    "            elif result:\n",
    "                result.pop()\n",
    "        return ''.join(result)\n",
    "\n",
    "    return process_string(s) == process_string(t)\n",
    "#Example\n",
    "s = \"ab#c\"\n",
    "t = \"ad#c\"\n",
    "print(backspace_compare(s, t))"
   ]
  },
  {
   "cell_type": "markdown",
   "id": "8396d572",
   "metadata": {},
   "source": [
    "<aside>\n",
    "💡 **Question 8**\n",
    "\n",
    "You are given an array coordinates, coordinates[i] = [x, y], where [x, y] represents the coordinate of a point. Check if these points make a straight line in the XY plane.\n",
    "\n",
    "</aside>"
   ]
  },
  {
   "cell_type": "code",
   "execution_count": 10,
   "id": "8a47d586",
   "metadata": {},
   "outputs": [
    {
     "name": "stdout",
     "output_type": "stream",
     "text": [
      "True\n"
     ]
    }
   ],
   "source": [
    "def check_straight_line(coordinates):\n",
    "    if len(coordinates) <= 2:\n",
    "        return True\n",
    "    \n",
    "    # Calculate the slope between the first two points\n",
    "    x0, y0 = coordinates[0]\n",
    "    x1, y1 = coordinates[1]\n",
    "    initial_slope = (y1 - y0) / (x1 - x0)\n",
    "    \n",
    "    # Check the slope between each subsequent pair of points\n",
    "    for i in range(2, len(coordinates)):\n",
    "        xi, yi = coordinates[i]\n",
    "        slope = (yi - y0) / (xi - x0)\n",
    "        \n",
    "        # If the slope is not equal to the initial slope, return False\n",
    "        if slope != initial_slope:\n",
    "            return False\n",
    "    \n",
    "    # If all slopes are equal, return True\n",
    "    return True\n",
    "\n",
    "#Example\n",
    "coordinates = [[1, 1], [2, 2], [3, 3], [4, 4]]\n",
    "print(check_straight_line(coordinates))"
   ]
  }
 ],
 "metadata": {
  "kernelspec": {
   "display_name": "Python 3 (ipykernel)",
   "language": "python",
   "name": "python3"
  },
  "language_info": {
   "codemirror_mode": {
    "name": "ipython",
    "version": 3
   },
   "file_extension": ".py",
   "mimetype": "text/x-python",
   "name": "python",
   "nbconvert_exporter": "python",
   "pygments_lexer": "ipython3",
   "version": "3.9.13"
  }
 },
 "nbformat": 4,
 "nbformat_minor": 5
}
